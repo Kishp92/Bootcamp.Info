{
 "cells": [
  {
   "cell_type": "code",
   "execution_count": 1,
   "id": "fc4d40c7-937f-4939-ba18-1172927f2785",
   "metadata": {},
   "outputs": [],
   "source": [
    "import random"
   ]
  },
  {
   "cell_type": "code",
   "execution_count": 3,
   "id": "fed2302d-6984-4e4c-b364-6b7ac57786b3",
   "metadata": {},
   "outputs": [],
   "source": [
    "names = [\n",
    "    'Allan Walybek',\n",
    "    'Andrew Southivong',\n",
    "    'Ariel Chunn',\n",
    "    'avin jabbar',\n",
    "    'Kishan',\n",
    "    'Lilia Murad Nassif',\n",
    "    'Shayleene Dosky',\n",
    "    'Suleen Tovi',\n",
    "    'Talha Celil Yituk',\n",
    "    'Yahyaa Jahangir',\n",
    "    'Yousef Sindi'\n",
    "]"
   ]
  },
  {
   "cell_type": "code",
   "execution_count": 6,
   "id": "3b8b567b-f1b0-4fe0-a257-2a35b0a4b79a",
   "metadata": {},
   "outputs": [],
   "source": [
    "random.choice(names)"
   ]
  },
  {
   "cell_type": "code",
   "execution_count": null,
   "id": "809de6b4-6794-4c09-99a9-28fca6737d8b",
   "metadata": {},
   "outputs": [],
   "source": []
  }
 ],
 "metadata": {
  "kernelspec": {
   "display_name": "Python 3 (ipykernel)",
   "language": "python",
   "name": "python3"
  },
  "language_info": {
   "codemirror_mode": {
    "name": "ipython",
    "version": 3
   },
   "file_extension": ".py",
   "mimetype": "text/x-python",
   "name": "python",
   "nbconvert_exporter": "python",
   "pygments_lexer": "ipython3",
   "version": "3.9.7"
  }
 },
 "nbformat": 4,
 "nbformat_minor": 5
}
