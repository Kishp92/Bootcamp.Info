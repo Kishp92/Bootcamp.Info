{
 "cells": [
  {
   "cell_type": "markdown",
   "id": "bf8f9909-4b18-4c0d-be9b-9ba038a46c19",
   "metadata": {},
   "source": [
    "### First steps"
   ]
  },
  {
   "cell_type": "code",
   "execution_count": 1,
   "id": "7c5b1360-223c-4bb7-b736-cdf418422d35",
   "metadata": {},
   "outputs": [
    {
     "name": "stdout",
     "output_type": "stream",
     "text": [
      "Hello, world!\n"
     ]
    }
   ],
   "source": [
    "print(\"Hello, world!\")"
   ]
  },
  {
   "cell_type": "markdown",
   "id": "ed801941-279c-4360-aeee-2335526c2488",
   "metadata": {},
   "source": [
    "### Variables"
   ]
  },
  {
   "cell_type": "code",
   "execution_count": 2,
   "id": "398caf5c-d53f-4b55-8475-303d8475b2bc",
   "metadata": {},
   "outputs": [],
   "source": [
    "a = 3\n",
    "b = 2*a   "
   ]
  },
  {
   "cell_type": "markdown",
   "id": "9d49ed46-c482-45d0-81a3-5359f8decb36",
   "metadata": {},
   "source": [
    "### Type"
   ]
  },
  {
   "cell_type": "markdown",
   "id": "195bb746-e943-468d-8ab6-7077ba248e9d",
   "metadata": {},
   "source": [
    "1. Integer\n",
    "2. Floats\n",
    "3. Complex\n",
    "4. Boolean"
   ]
  },
  {
   "cell_type": "code",
   "execution_count": 3,
   "id": "24179bb0-25b2-40de-8f42-7abe7fe6d4fe",
   "metadata": {},
   "outputs": [
    {
     "data": {
      "text/plain": [
       "int"
      ]
     },
     "execution_count": 3,
     "metadata": {},
     "output_type": "execute_result"
    }
   ],
   "source": [
    "type(b)"
   ]
  },
  {
   "cell_type": "markdown",
   "id": "556aeb92-ac64-4804-a612-15211ea07356",
   "metadata": {},
   "source": [
    "### Print"
   ]
  },
  {
   "cell_type": "code",
   "execution_count": 4,
   "id": "dc52b286-b8a7-45a5-af66-f95df14b306d",
   "metadata": {},
   "outputs": [
    {
     "name": "stdout",
     "output_type": "stream",
     "text": [
      "6\n"
     ]
    }
   ],
   "source": [
    "print(b)"
   ]
  },
  {
   "cell_type": "code",
   "execution_count": 5,
   "id": "12585d27-aab0-4ade-829d-c44e93d0d41c",
   "metadata": {},
   "outputs": [
    {
     "data": {
      "text/plain": [
       "str"
      ]
     },
     "execution_count": 5,
     "metadata": {},
     "output_type": "execute_result"
    }
   ],
   "source": [
    "a*b\n",
    "b = 'hello'\n",
    "type(b)    "
   ]
  },
  {
   "cell_type": "code",
   "execution_count": 6,
   "id": "189df220-20f1-4a31-a2ba-ebb30e8615c6",
   "metadata": {},
   "outputs": [
    {
     "data": {
      "text/plain": [
       "'hellohello'"
      ]
     },
     "execution_count": 6,
     "metadata": {},
     "output_type": "execute_result"
    }
   ],
   "source": [
    "b + b"
   ]
  },
  {
   "cell_type": "code",
   "execution_count": 7,
   "id": "ddc96af3-a910-48c4-8520-3f7e6901ba38",
   "metadata": {},
   "outputs": [
    {
     "data": {
      "text/plain": [
       "'hellohello'"
      ]
     },
     "execution_count": 7,
     "metadata": {},
     "output_type": "execute_result"
    }
   ],
   "source": [
    "2*b"
   ]
  },
  {
   "cell_type": "markdown",
   "id": "57211894-e58a-4b4f-ade6-59da63663d97",
   "metadata": {},
   "source": [
    "# Data Containers"
   ]
  },
  {
   "cell_type": "markdown",
   "id": "a919d7f0-0a9a-426c-b264-1eafe1e6f516",
   "metadata": {},
   "source": [
    "## List"
   ]
  },
  {
   "cell_type": "code",
   "execution_count": 8,
   "id": "611b50a9-0e6c-479d-a144-0e308665513b",
   "metadata": {
    "tags": []
   },
   "outputs": [],
   "source": [
    "colors = ['red', 'blue', 'green', 'black', 'white']"
   ]
  },
  {
   "cell_type": "code",
   "execution_count": 39,
   "id": "442ffc05-7139-4353-8c86-c8d3f841c422",
   "metadata": {
    "tags": []
   },
   "outputs": [
    {
     "data": {
      "text/plain": [
       "list"
      ]
     },
     "execution_count": 39,
     "metadata": {},
     "output_type": "execute_result"
    }
   ],
   "source": [
    "type(colors)"
   ]
  },
  {
   "cell_type": "code",
   "execution_count": 40,
   "id": "d365a213-50a4-4fc3-8916-d432e2c6d4f8",
   "metadata": {},
   "outputs": [
    {
     "data": {
      "text/plain": [
       "'hello'"
      ]
     },
     "execution_count": 40,
     "metadata": {},
     "output_type": "execute_result"
    }
   ],
   "source": [
    "## Indexing: accessing individual objects contained in the list:\n",
    "colors[2]"
   ]
  },
  {
   "cell_type": "code",
   "execution_count": 11,
   "id": "3e963ff1-0630-430f-be62-fd8e6fb05ea3",
   "metadata": {},
   "outputs": [
    {
     "data": {
      "text/plain": [
       "'white'"
      ]
     },
     "execution_count": 11,
     "metadata": {},
     "output_type": "execute_result"
    }
   ],
   "source": [
    "## Counting from the end with negative indices:\n",
    "colors[-1]"
   ]
  },
  {
   "cell_type": "code",
   "execution_count": 12,
   "id": "710f8de5-014f-43bc-a8a1-e32099d49f37",
   "metadata": {},
   "outputs": [
    {
     "data": {
      "text/plain": [
       "'black'"
      ]
     },
     "execution_count": 12,
     "metadata": {},
     "output_type": "execute_result"
    }
   ],
   "source": [
    "colors[-2]"
   ]
  },
  {
   "cell_type": "markdown",
   "id": "297c35ec-072a-44b4-8427-21d43c0b04e4",
   "metadata": {},
   "source": [
    "**colors[start:stop]**"
   ]
  },
  {
   "cell_type": "code",
   "execution_count": 13,
   "id": "d6a105df-5831-4962-80b1-54aab0f614e4",
   "metadata": {},
   "outputs": [
    {
     "data": {
      "text/plain": [
       "['green', 'black']"
      ]
     },
     "execution_count": 13,
     "metadata": {},
     "output_type": "execute_result"
    }
   ],
   "source": [
    "colors[2:4]"
   ]
  },
  {
   "cell_type": "markdown",
   "id": "8bdbb103-a1d8-4eaa-8b2e-8ead6a3cf4ec",
   "metadata": {},
   "source": [
    "Ranging from start to stop-1)"
   ]
  },
  {
   "cell_type": "code",
   "execution_count": 14,
   "id": "c4d65091-f916-474c-a689-95a01d7fb4d6",
   "metadata": {},
   "outputs": [],
   "source": [
    "colors = [3, -200, 'hello']"
   ]
  },
  {
   "cell_type": "code",
   "execution_count": 15,
   "id": "0c457745-b41b-4839-9686-0366d68a7658",
   "metadata": {},
   "outputs": [],
   "source": [
    "colors.append('pink')"
   ]
  },
  {
   "cell_type": "code",
   "execution_count": 16,
   "id": "436f568e-285f-453c-91e1-1ad57f6e4d35",
   "metadata": {},
   "outputs": [
    {
     "data": {
      "text/plain": [
       "[3, -200, 'hello', 'pink']"
      ]
     },
     "execution_count": 16,
     "metadata": {},
     "output_type": "execute_result"
    }
   ],
   "source": [
    "colors"
   ]
  },
  {
   "cell_type": "code",
   "execution_count": 17,
   "id": "c30ae4f8-1564-438a-80bd-22256c303a72",
   "metadata": {},
   "outputs": [
    {
     "data": {
      "text/plain": [
       "'pink'"
      ]
     },
     "execution_count": 17,
     "metadata": {},
     "output_type": "execute_result"
    }
   ],
   "source": [
    "colors.pop()"
   ]
  },
  {
   "cell_type": "markdown",
   "id": "53b069eb-be63-4930-829f-d50528735af6",
   "metadata": {},
   "source": [
    "## Strings"
   ]
  },
  {
   "cell_type": "code",
   "execution_count": 18,
   "id": "58bfbf66-f477-4533-afba-f2d2a7860f26",
   "metadata": {},
   "outputs": [],
   "source": [
    "s = 'Hello, how are you?'"
   ]
  },
  {
   "cell_type": "code",
   "execution_count": 19,
   "id": "54d3aea6-ce25-4077-862d-652b7790a996",
   "metadata": {},
   "outputs": [
    {
     "data": {
      "text/plain": [
       "'H'"
      ]
     },
     "execution_count": 19,
     "metadata": {},
     "output_type": "execute_result"
    }
   ],
   "source": [
    "s[0]"
   ]
  },
  {
   "cell_type": "code",
   "execution_count": 20,
   "id": "4aa50ebe-9a9d-42a9-b635-9d9b76447b9e",
   "metadata": {},
   "outputs": [
    {
     "data": {
      "text/plain": [
       "'Hello, h'"
      ]
     },
     "execution_count": 20,
     "metadata": {},
     "output_type": "execute_result"
    }
   ],
   "source": [
    "s[0:8]"
   ]
  },
  {
   "cell_type": "markdown",
   "id": "583ea368-2052-4516-8319-97b14d303c72",
   "metadata": {},
   "source": [
    "## Dictionaries"
   ]
  },
  {
   "cell_type": "code",
   "execution_count": 21,
   "id": "7a126691-dad3-44b7-853f-92fb66f54db3",
   "metadata": {},
   "outputs": [],
   "source": [
    "dd = {'kroger': 5752, 'walmart': 5578}"
   ]
  },
  {
   "cell_type": "code",
   "execution_count": 22,
   "id": "58a5316f-6ef9-4810-bcbb-79d4104c3194",
   "metadata": {},
   "outputs": [
    {
     "data": {
      "text/plain": [
       "5752"
      ]
     },
     "execution_count": 22,
     "metadata": {},
     "output_type": "execute_result"
    }
   ],
   "source": [
    "dd['kroger']"
   ]
  },
  {
   "cell_type": "code",
   "execution_count": 23,
   "id": "5b4f3d60-7cbe-4373-aade-a5eb27652d74",
   "metadata": {},
   "outputs": [],
   "source": [
    "dd['target']: 20"
   ]
  },
  {
   "cell_type": "code",
   "execution_count": 24,
   "id": "7abd0679-eb53-47e8-824b-f400eb48386b",
   "metadata": {},
   "outputs": [
    {
     "data": {
      "text/plain": [
       "{'kroger': 5752, 'walmart': 5578}"
      ]
     },
     "execution_count": 24,
     "metadata": {},
     "output_type": "execute_result"
    }
   ],
   "source": [
    "dd"
   ]
  },
  {
   "cell_type": "markdown",
   "id": "a59262a8-9834-4d93-8ed6-ec0e05aca991",
   "metadata": {},
   "source": [
    "#### QUIZZ"
   ]
  },
  {
   "cell_type": "markdown",
   "id": "2c087c1e-0ee7-483d-a0bb-b8706cebe7fb",
   "metadata": {},
   "source": [
    "A. Select the correct way to print Emma’s age?"
   ]
  },
  {
   "cell_type": "code",
   "execution_count": 25,
   "id": "ab04e017-a9be-43a2-bf60-f0f9e493e839",
   "metadata": {},
   "outputs": [],
   "source": [
    "student = {1: {'name': 'Emma', 'age': '27', 'sex': 'Female'},\n",
    "           2: {'name': 'Mike', 'age': '22', 'sex': 'Male'}}"
   ]
  },
  {
   "cell_type": "markdown",
   "id": "5a8eeadd-297f-47cd-a61e-1c952f6d5e82",
   "metadata": {},
   "source": [
    "1. student[0][1]\n",
    "2. student[1][\"age\"]\n",
    "3. student[0][\"age\"]"
   ]
  },
  {
   "cell_type": "markdown",
   "id": "899661a7-8b17-427d-8e3a-eec2a90e5f31",
   "metadata": {},
   "source": [
    "B. What is the output of the following code?"
   ]
  },
  {
   "cell_type": "markdown",
   "id": "c83ca994-8dbb-4e64-8640-4c5fc737e9fb",
   "metadata": {},
   "source": [
    "1. dict1 = {\"key1\":1, \"key2\":2}\n",
    "2. dict2 = {\"key2\":2, \"key1\":1}\n",
    "\n",
    "print(dict1 == dict2)"
   ]
  },
  {
   "cell_type": "markdown",
   "id": "f77813ba-9aaa-42cc-9e67-634c8ed132d2",
   "metadata": {},
   "source": [
    "## Tuples"
   ]
  },
  {
   "cell_type": "code",
   "execution_count": 26,
   "id": "03cba5d6-38c1-4e44-b895-411ba9101740",
   "metadata": {},
   "outputs": [],
   "source": [
    "dd = (10, 20, 30)"
   ]
  },
  {
   "cell_type": "code",
   "execution_count": 27,
   "id": "51f0630d-aa54-49e7-9704-d387813d5d14",
   "metadata": {},
   "outputs": [
    {
     "data": {
      "text/plain": [
       "10"
      ]
     },
     "execution_count": 27,
     "metadata": {},
     "output_type": "execute_result"
    }
   ],
   "source": [
    "dd[0]"
   ]
  },
  {
   "cell_type": "code",
   "execution_count": 28,
   "id": "e438e6c9-ac1b-4a9b-857c-fb0e4443a1d2",
   "metadata": {},
   "outputs": [
    {
     "ename": "TypeError",
     "evalue": "'tuple' object does not support item assignment",
     "output_type": "error",
     "traceback": [
      "\u001b[0;31m---------------------------------------------------------------------------\u001b[0m",
      "\u001b[0;31mTypeError\u001b[0m                                 Traceback (most recent call last)",
      "\u001b[0;32m/var/folders/xw/88_6_hq95z5fb8b7c8xdtg7m0000gn/T/ipykernel_58583/2687640731.py\u001b[0m in \u001b[0;36m<module>\u001b[0;34m\u001b[0m\n\u001b[0;32m----> 1\u001b[0;31m \u001b[0mdd\u001b[0m\u001b[0;34m[\u001b[0m\u001b[0;36m0\u001b[0m\u001b[0;34m]\u001b[0m \u001b[0;34m=\u001b[0m \u001b[0;34m\"sabber\"\u001b[0m\u001b[0;34m\u001b[0m\u001b[0;34m\u001b[0m\u001b[0m\n\u001b[0m",
      "\u001b[0;31mTypeError\u001b[0m: 'tuple' object does not support item assignment"
     ]
    }
   ],
   "source": [
    "dd[0] = \"sabber\""
   ]
  },
  {
   "cell_type": "markdown",
   "id": "00a5082b-b7a8-4058-85df-ab5f47913f0a",
   "metadata": {},
   "source": [
    "# Assignment operator"
   ]
  },
  {
   "cell_type": "code",
   "execution_count": 29,
   "id": "d54b657a-e0cc-47df-afc5-cfdd98602ff7",
   "metadata": {},
   "outputs": [],
   "source": [
    "a = [1, 2, 3]\n",
    "b = a"
   ]
  },
  {
   "cell_type": "markdown",
   "id": "4140f78c-6dc0-4833-8f4e-61f0988f73c5",
   "metadata": {},
   "source": [
    "# Control Flow"
   ]
  },
  {
   "cell_type": "markdown",
   "id": "9fe21a5f-428a-4dee-91a5-7fd06d5dda70",
   "metadata": {},
   "source": [
    "## if/elif/else"
   ]
  },
  {
   "cell_type": "raw",
   "id": "02784249-f600-489a-b07d-555a58b4ae58",
   "metadata": {},
   "source": [
    "if condition:\n",
    "    statement(s)"
   ]
  },
  {
   "cell_type": "code",
   "execution_count": 30,
   "id": "c3eee655-9a1f-4cfe-b297-b398739bec2b",
   "metadata": {},
   "outputs": [
    {
     "name": "stdout",
     "output_type": "stream",
     "text": [
      "Obvious!\n"
     ]
    }
   ],
   "source": [
    "if 2**2 == 4:\n",
    "    print('Obvious!')"
   ]
  },
  {
   "cell_type": "code",
   "execution_count": 31,
   "id": "aa1eb545-f2a2-477d-b808-60259ae57c9c",
   "metadata": {},
   "outputs": [
    {
     "name": "stdout",
     "output_type": "stream",
     "text": [
      "A lot\n"
     ]
    }
   ],
   "source": [
    "a = 10\n",
    "if a == 1:\n",
    "    print(1)\n",
    "elif a == 2:\n",
    "    print(2)\n",
    "else:\n",
    "    print('A lot')"
   ]
  },
  {
   "cell_type": "markdown",
   "id": "b3a3c46c-b1bf-4dd0-9199-9cd46600bc44",
   "metadata": {},
   "source": [
    "Write a code to check if 23 present in a list = [10, 25, 39, 29, 18]. "
   ]
  },
  {
   "cell_type": "markdown",
   "id": "86703d15-4709-4ca3-83fb-285bfd6f34fd",
   "metadata": {},
   "source": [
    "## Conditional Expressions"
   ]
  },
  {
   "cell_type": "markdown",
   "id": "bf6c9e79-6eed-46a9-a933-4d7cc1802993",
   "metadata": {},
   "source": [
    "a == b:"
   ]
  },
  {
   "cell_type": "code",
   "execution_count": 32,
   "id": "2e206e8c-0c9c-4ecf-a658-553cec45122d",
   "metadata": {},
   "outputs": [
    {
     "data": {
      "text/plain": [
       "True"
      ]
     },
     "execution_count": 32,
     "metadata": {},
     "output_type": "execute_result"
    }
   ],
   "source": [
    "1 == 1."
   ]
  },
  {
   "cell_type": "markdown",
   "id": "f7713fdd-4216-4b5d-a397-f7af743a23f1",
   "metadata": {},
   "source": [
    "a is b: "
   ]
  },
  {
   "cell_type": "code",
   "execution_count": 33,
   "id": "067e00dd-2e79-4b67-98b8-259c36e1175f",
   "metadata": {},
   "outputs": [
    {
     "name": "stderr",
     "output_type": "stream",
     "text": [
      "<>:1: SyntaxWarning: \"is\" with a literal. Did you mean \"==\"?\n",
      "<>:1: SyntaxWarning: \"is\" with a literal. Did you mean \"==\"?\n",
      "/var/folders/xw/88_6_hq95z5fb8b7c8xdtg7m0000gn/T/ipykernel_58583/2977559864.py:1: SyntaxWarning: \"is\" with a literal. Did you mean \"==\"?\n",
      "  1 is 1.\n"
     ]
    },
    {
     "data": {
      "text/plain": [
       "False"
      ]
     },
     "execution_count": 33,
     "metadata": {},
     "output_type": "execute_result"
    }
   ],
   "source": [
    "1 is 1."
   ]
  },
  {
   "cell_type": "markdown",
   "id": "dc06c3d9-b794-47cf-85c3-76914b969ecf",
   "metadata": {},
   "source": [
    "a in b: "
   ]
  },
  {
   "cell_type": "code",
   "execution_count": 34,
   "id": "406598be-f556-4530-99f6-3cd6da3ee349",
   "metadata": {},
   "outputs": [],
   "source": [
    "b = [1, 2, 3]"
   ]
  },
  {
   "cell_type": "code",
   "execution_count": 35,
   "id": "3d984e0b-dcc6-4b3d-8ea7-d0a150a261a4",
   "metadata": {},
   "outputs": [
    {
     "data": {
      "text/plain": [
       "True"
      ]
     },
     "execution_count": 35,
     "metadata": {},
     "output_type": "execute_result"
    }
   ],
   "source": [
    "2 in b"
   ]
  },
  {
   "cell_type": "markdown",
   "id": "4262e3e1-a61f-457c-92d2-f8bb4247b1fc",
   "metadata": {},
   "source": [
    "## for/range"
   ]
  },
  {
   "cell_type": "markdown",
   "id": "4486a8df-91cf-4604-ba60-9ce8aabf1a17",
   "metadata": {},
   "source": [
    "range(start, stop, step)"
   ]
  },
  {
   "cell_type": "code",
   "execution_count": null,
   "id": "b01580e1-6506-4fc4-a0f1-792b948ad34b",
   "metadata": {},
   "outputs": [],
   "source": [
    "x = range(3, 20, 2)\n",
    "for n in x:\n",
    "    print(n)"
   ]
  },
  {
   "cell_type": "code",
   "execution_count": null,
   "id": "9c4564ab-84c1-41d4-9451-d4693231064c",
   "metadata": {},
   "outputs": [],
   "source": [
    "x = range(3, 6)\n",
    "for n in x:\n",
    "    print(n)"
   ]
  },
  {
   "cell_type": "code",
   "execution_count": null,
   "id": "c214cbdb-5c0c-4f74-8fc8-6dfb03ba9acc",
   "metadata": {},
   "outputs": [],
   "source": [
    "for i in range(4):\n",
    "    print(i)"
   ]
  },
  {
   "cell_type": "markdown",
   "id": "4edee93c-860e-4132-9a45-17e93a975824",
   "metadata": {},
   "source": [
    "#### QUIZZ"
   ]
  },
  {
   "cell_type": "markdown",
   "id": "abbd5b04-482e-4760-85fa-84dcb0c2e176",
   "metadata": {},
   "source": [
    "Write a code to display numbers from a list using loop"
   ]
  },
  {
   "cell_type": "markdown",
   "id": "2b11bd06-5d60-47ca-bb2b-2c30feacfc19",
   "metadata": {},
   "source": [
    "Exercise: Write a program to print multiplication of the first 20 number by 3"
   ]
  },
  {
   "cell_type": "markdown",
   "id": "f2727b35-213c-4205-9609-3a62d191c9af",
   "metadata": {},
   "source": [
    "Exercise: Print list in reverse order using a loop"
   ]
  },
  {
   "cell_type": "markdown",
   "id": "a35e6a46-dca3-4c5a-ab65-acfa15f83f67",
   "metadata": {},
   "source": [
    "## List Comprehensions"
   ]
  },
  {
   "cell_type": "code",
   "execution_count": 95,
   "id": "2dd41013-14c6-4a93-8421-3c7c12e3aecb",
   "metadata": {},
   "outputs": [
    {
     "data": {
      "text/plain": [
       "[0, 1, 4, 9]"
      ]
     },
     "execution_count": 95,
     "metadata": {},
     "output_type": "execute_result"
    }
   ],
   "source": [
    "[i**2 for i in range(4)]"
   ]
  },
  {
   "cell_type": "markdown",
   "id": "c810538a-c8e0-449c-bb3f-a0a6829ae883",
   "metadata": {},
   "source": [
    "# Function"
   ]
  },
  {
   "cell_type": "code",
   "execution_count": null,
   "id": "896ef99d-2055-4333-b826-590e9019265f",
   "metadata": {},
   "outputs": [],
   "source": [
    "def test():\n",
    "    print('in test function')"
   ]
  },
  {
   "cell_type": "code",
   "execution_count": 139,
   "id": "8ebf0ed6-4ffe-43e7-92d7-0b32fff7ff83",
   "metadata": {},
   "outputs": [],
   "source": [
    "def disk_area(radius):\n",
    "    return 3.14 * radius * radius"
   ]
  },
  {
   "cell_type": "markdown",
   "id": "d8cbdf89-fd68-42a9-9ed8-a288c7101126",
   "metadata": {},
   "source": [
    "### Parameters in function"
   ]
  },
  {
   "cell_type": "code",
   "execution_count": 141,
   "id": "0c741403-bedb-4eaf-96cb-250eff2964a1",
   "metadata": {},
   "outputs": [],
   "source": [
    "def double_it(x):\n",
    "    return x * 2"
   ]
  },
  {
   "cell_type": "markdown",
   "id": "f73cd19b-37f5-416e-9838-1f3227ce0f94",
   "metadata": {},
   "source": [
    "#### QUIZZ"
   ]
  },
  {
   "cell_type": "markdown",
   "id": "ea1fa4c8-aa5a-43c4-9716-9751cd6e639e",
   "metadata": {},
   "source": [
    "Write a function that accepts a list of colors and returns the last value of the list."
   ]
  },
  {
   "cell_type": "code",
   "execution_count": null,
   "id": "4eb092b6-d06f-4414-a732-a4458d59645a",
   "metadata": {},
   "outputs": [],
   "source": []
  }
 ],
 "metadata": {
  "kernelspec": {
   "display_name": "Python 3 (ipykernel)",
   "language": "python",
   "name": "python3"
  },
  "language_info": {
   "codemirror_mode": {
    "name": "ipython",
    "version": 3
   },
   "file_extension": ".py",
   "mimetype": "text/x-python",
   "name": "python",
   "nbconvert_exporter": "python",
   "pygments_lexer": "ipython3",
   "version": "3.9.7"
  }
 },
 "nbformat": 4,
 "nbformat_minor": 5
}
